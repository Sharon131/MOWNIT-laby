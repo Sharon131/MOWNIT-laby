{
 "cells": [
  {
   "cell_type": "code",
   "execution_count": 58,
   "metadata": {},
   "outputs": [],
   "source": [
    "# sprawozdanie na za 2 tygodnie( 23 marca do pory zajęć)\n",
    "# zerowanie w sposób jawny wyrazów w macierzy\n",
    "# partial pivoting - szukanie elementu wiodącego w kolumnie\n",
    "# full pivoting - j.w. tylko że również w wierszach\n",
    "# scaling - scalowanie każdego wiersza macierzy przez rząd wielkości n.p\n",
    "# bez pivotingu, scaling można (pivot w domu)\n",
    "# do 3 ważny rysunek. Im lepszy tym lepiej\n",
    "# ryswanie grafów\n",
    "# sprawdzanie czy sumy prądów na węzłach się zgadzają\n",
    "# skomplikowane grafów\n",
    "# układ równań normalnych\n",
    "# Kirchoff na lepszą ocenę\n",
    "import numpy as np\n",
    "import time"
   ]
  },
  {
   "cell_type": "markdown",
   "metadata": {},
   "source": [
    "#### Metoda Gaussa-Jordana"
   ]
  },
  {
   "cell_type": "code",
   "execution_count": 60,
   "metadata": {},
   "outputs": [
    {
     "name": "stdout",
     "output_type": "stream",
     "text": [
      "3.6928727626800537\n",
      "0.348330020904541\n",
      "[[ 8.21761197e-01  0.00000000e+00  0.00000000e+00 ...  0.00000000e+00\n",
      "   0.00000000e+00 -3.39283626e-01]\n",
      " [ 0.00000000e+00  4.71688574e-01  0.00000000e+00 ...  0.00000000e+00\n",
      "   0.00000000e+00  4.07726036e-01]\n",
      " [ 0.00000000e+00  0.00000000e+00 -6.40911602e-02 ...  0.00000000e+00\n",
      "   0.00000000e+00 -1.21321505e-02]\n",
      " ...\n",
      " [ 0.00000000e+00  0.00000000e+00  0.00000000e+00 ...  0.00000000e+00\n",
      "   0.00000000e+00 -9.23091853e-02]\n",
      " [ 0.00000000e+00  0.00000000e+00  0.00000000e+00 ...  1.27880154e+02\n",
      "   0.00000000e+00 -5.15936145e+01]\n",
      " [ 0.00000000e+00  0.00000000e+00  0.00000000e+00 ...  0.00000000e+00\n",
      "  -1.27544859e+01 -1.63112394e+01]]\n"
     ]
    }
   ],
   "source": [
    "\n",
    "def Gauss_Jordan(matrix_A, matrix_b):\n",
    "    matrix = np.column_stack((matrix_A, matrix_b))\n",
    "    \n",
    "    for p in range(np.size(matrix, 0)):\n",
    "        pivot = matrix[p][p]\n",
    "        for row in range(0, np.size(matrix,0)):\n",
    "            if row != p and pivot!=0:\n",
    "                row_sub = -matrix[p, :]*(matrix[row][p]/pivot)\n",
    "                matrix[row, :] = matrix[row,:] + row_sub\n",
    "                if row > p:\n",
    "                    matrix[row, 0:p] = 0\n",
    "                else:\n",
    "                    matrix[row, p:np.size(matrix,0)-1] = 0\n",
    "    return matrix\n",
    "\n",
    "\n",
    "matrixA = np.random.rand(500, 500)\n",
    "matrixb = np.random.rand(500)\n",
    "start = time.time()\n",
    "matrix = Gauss_Jordan(matrixA, matrixb)\n",
    "end = time.time()\n",
    "\n",
    "start2 = time.time()\n",
    "matrix_2 =  np.linalg.solve(matrixA, matrixb)\n",
    "end2 = time.time()\n",
    "elapsed2 = end2-start2\n",
    "\n",
    "elapsed = end-start\n",
    "print(elapsed)\n",
    "print(elapsed2)\n",
    "print(matrix)"
   ]
  },
  {
   "cell_type": "code",
   "execution_count": null,
   "metadata": {},
   "outputs": [],
   "source": []
  },
  {
   "cell_type": "code",
   "execution_count": null,
   "metadata": {},
   "outputs": [],
   "source": []
  }
 ],
 "metadata": {
  "kernelspec": {
   "display_name": "Python 3",
   "language": "python",
   "name": "python3"
  },
  "language_info": {
   "codemirror_mode": {
    "name": "ipython",
    "version": 3
   },
   "file_extension": ".py",
   "mimetype": "text/x-python",
   "name": "python",
   "nbconvert_exporter": "python",
   "pygments_lexer": "ipython3",
   "version": "3.7.4"
  }
 },
 "nbformat": 4,
 "nbformat_minor": 2
}
