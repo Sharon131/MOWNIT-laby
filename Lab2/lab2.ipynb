{
 "cells": [
  {
   "cell_type": "code",
   "execution_count": 1,
   "metadata": {},
   "outputs": [],
   "source": [
    "# sprawozdanie na za 2 tygodnie( 23 marca do pory zajęć)\n",
    "# zerowanie w sposób jawny wyrazów w macierzy\n",
    "# partial pivoting - szukanie elementu wiodącego w kolumnie\n",
    "# full pivoting - j.w. tylko że również w wierszach\n",
    "# scaling - scalowanie każdego wiersza macierzy przez rząd wielkości n.p\n",
    "# bez pivotingu, scaling można (pivot w domu)\n",
    "# do 3 ważny rysunek. Im lepszy tym lepiej\n",
    "# ryswanie grafów\n",
    "# sprawdzanie czy sumy prądów na węzłach się zgadzają\n",
    "# układ równań normalnych\n",
    "# Kirchoff na lepszą ocenę\n",
    "import numpy as np\n",
    "from scipy import linalg\n",
    "import time\n",
    "import copy"
   ]
  },
  {
   "cell_type": "markdown",
   "metadata": {},
   "source": [
    "#### Metoda Gaussa-Jordana"
   ]
  },
  {
   "cell_type": "code",
   "execution_count": 2,
   "metadata": {},
   "outputs": [
    {
     "name": "stderr",
     "output_type": "stream",
     "text": [
      "C:\\Users\\pastu\\Anaconda3\\lib\\site-packages\\ipykernel_launcher.py:76: FutureWarning: `rcond` parameter will change to the default of machine precision times ``max(M, N)`` where M and N are the input matrix dimensions.\n",
      "To use the future default and silence this warning we advise to pass `rcond=None`, to keep using the old, explicitly pass `rcond=-1`.\n"
     ]
    },
    {
     "name": "stdout",
     "output_type": "stream",
     "text": [
      "Times for size = 500\n",
      "Time taken for written function: 5.353967189788818 s\n",
      "Time taken for library function linalg.solve: 0.14580321311950684 s\n",
      "Time taken for library function linalg.lstsq: 0.12838172912597656 s\n",
      "Times for size = 1000\n",
      "Time taken for written function: 22.855604887008667 s\n",
      "Time taken for library function linalg.solve: 0.08116483688354492 s\n",
      "Time taken for library function linalg.lstsq: 0.32978224754333496 s\n",
      "Times for size = 1500\n",
      "Time taken for written function: 56.88107085227966 s\n",
      "Time taken for library function linalg.solve: 0.05980110168457031 s\n",
      "Time taken for library function linalg.lstsq: 1.353142499923706 s\n",
      "Times for size = 2000\n",
      "Time taken for written function: 110.66733145713806 s\n",
      "Time taken for library function linalg.solve: 0.1882925033569336 s\n",
      "Time taken for library function linalg.lstsq: 3.273648262023926 s\n"
     ]
    }
   ],
   "source": [
    "\n",
    "def scaling(matrix):\n",
    "    max_order = -np.inf;\n",
    "    for j in  range(np.size(matrix, 0)):\n",
    "        max_order = -np.inf;\n",
    "        for i in range(np.size(matrix, 1)):\n",
    "            order = np.floor(np.log10(abs(matrix[j][i])))\n",
    "            if order > max_order:\n",
    "                max_order = order\n",
    "\n",
    "        matrix[j][:] = matrix[j][:] / (10**max_order)\n",
    "\n",
    "\n",
    "def partial_pivoting(matrix, row):\n",
    "    max_num = -np.inf\n",
    "    index = row\n",
    "\n",
    "    for i in range(row, np.size(matrix, 0)):\n",
    "        if matrix[i][row] > max_num:\n",
    "            max_num = matrix[i][row]\n",
    "            index = i\n",
    "    \n",
    "    tmp = copy.deepcopy(matrix[row][:])\n",
    "    matrix[row][:] = matrix[index][:]\n",
    "    matrix[index][:] = tmp\n",
    "    \n",
    "    P = np.identity(np.size(matrix, 0))\n",
    "    tmp = copy.deepcopy(P[index][:])\n",
    "    P[index, :] = P[row][:]\n",
    "    P[row][:] = tmp\n",
    "    \n",
    "    return P\n",
    "\n",
    "\n",
    "def Gauss_Jordan(matrix_A, matrix_b):\n",
    "    matrix = np.column_stack((matrix_A, matrix_b))\n",
    "    scaling(matrix)\n",
    "    \n",
    "    for p in range(np.size(matrix, 0)):\n",
    "        partial_pivoting(matrix, p)\n",
    "        pivot = matrix[p][p]\n",
    "        for row in range(np.size(matrix,0)):\n",
    "            if row != p and pivot !=0:\n",
    "                row_sub = -matrix[p, :]*(matrix[row][p]/pivot)\n",
    "                matrix[row, :] = matrix[row,:] + row_sub\n",
    "                matrix[row, p] = 0\n",
    "    \n",
    "    return matrix\n",
    "\n",
    "\n",
    "def find_solution(matrixA, matrixB):\n",
    "    matrix = Gauss_Jordan(matrixA, matrixB)\n",
    "    x = []\n",
    "    \n",
    "    size = np.size(matrixA, 0)\n",
    "    for i in range(size):\n",
    "        x.append(matrix[i][size]/matrix[i][i])\n",
    "        \n",
    "    return x\n",
    "\n",
    "\n",
    "for i in range(1, 5):\n",
    "    matrixA = np.random.rand(i*500, i*500)\n",
    "    matrixb = np.random.rand(i*500)\n",
    "    \n",
    "    start = time.time()\n",
    "    matrix = find_solution(matrixA, matrixb)\n",
    "    end = time.time()\n",
    "    elapsed = end-start\n",
    "\n",
    "    start2 = time.time()\n",
    "    matrix_2 = np.linalg.solve(matrixA, matrixb)\n",
    "    end2 = time.time()\n",
    "    elapsed2 = end2-start2\n",
    "\n",
    "    start3 = time.time()\n",
    "    matrix_3 = np.linalg.lstsq(matrixA, matrixb)\n",
    "    end3 = time.time()\n",
    "    elapsed3 = end3-start3\n",
    "    \n",
    "    print(\"Times for size = \" + str(i*500))\n",
    "    print(\"Time taken for written function: \" + str(elapsed) + \" s\")\n",
    "    print(\"Time taken for library function linalg.solve: \" + str(elapsed2) + \" s\")\n",
    "    print(\"Time taken for library function linalg.lstsq: \" + str(elapsed3) + \" s\")\n",
    "    # print(\"Result of written function:\\n\" + str(matrix))\n",
    "    # print(\"Result of linalg.solve function:\\n\" + str(matrix_2))\n",
    "    # print(\"Result of linalg.lstsq function:\\n\" + str(matrix_3))"
   ]
  },
  {
   "cell_type": "markdown",
   "metadata": {},
   "source": [
    "#### Rozkład LU"
   ]
  },
  {
   "cell_type": "code",
   "execution_count": 3,
   "metadata": {
    "scrolled": false
   },
   "outputs": [
    {
     "name": "stdout",
     "output_type": "stream",
     "text": [
      "Time taken for written function: 0.005221843719482422\n",
      "Time taken for library function: 0.00458526611328125\n",
      "Matrix L:\n",
      "[[ 0.09950101  0.50680218 -0.14226202  0.88138862  1.        ]\n",
      " [ 0.96483926 -0.46327204 -0.72588544  1.          0.        ]\n",
      " [ 0.09865894 -0.06951005  1.          0.          0.        ]\n",
      " [ 1.          0.          0.          0.          0.        ]\n",
      " [ 0.17693463  1.          0.          0.          0.        ]]\n",
      "Matrix L from numpy:\n",
      "[[ 0.96483926 -0.46327204 -0.72588544  1.          0.        ]\n",
      " [ 0.09950101  0.50680218 -0.14226202  0.88138862  1.        ]\n",
      " [ 0.09865894 -0.06951005  1.          0.          0.        ]\n",
      " [ 0.17693463  1.          0.          0.          0.        ]\n",
      " [ 1.          0.          0.          0.          0.        ]]\n",
      "Original matrix A:\n",
      "[[4821.20193342 3370.10426216  447.72507263 1808.26894224 1419.43702341]\n",
      " [ 497.19625885 1910.59430814  533.94168184 1472.33834913 3576.24639554]\n",
      " [ 492.98853371  282.21153032 4779.47820489 3376.06164987 2831.12684213]\n",
      " [ 884.12402166 3675.90242041 2211.77337933 1913.60913222  627.27932298]\n",
      " [4996.89651146 4846.20530078 4482.48223554 3738.04142389 4200.49053058]]\n",
      "Matrix A from LU:\n",
      "[[0.49719626 1.91059431 0.53394168 1.47233835 3.5762464 ]\n",
      " [4.82120193 3.37010426 0.44772507 1.80826894 1.41943702]\n",
      " [0.49298853 0.28221153 4.7794782  3.37606165 2.83112684]\n",
      " [4.99689651 4.8462053  4.48248224 3.73804142 4.20049053]\n",
      " [0.88412402 3.67590242 2.21177338 1.91360913 0.62727932]]\n",
      "Matrix A from LU scipy:\n",
      "[[4821.20193342 3370.10426216  447.72507263 1808.26894224 1419.43702341]\n",
      " [ 497.19625885 1910.59430814  533.94168184 1472.33834913 3576.24639554]\n",
      " [ 492.98853371  282.21153032 4779.47820489 3376.06164987 2831.12684213]\n",
      " [ 884.12402166 3675.90242041 2211.77337933 1913.60913222  627.27932298]\n",
      " [4996.89651146 4846.20530078 4482.48223554 3738.04142389 4200.49053058]]\n",
      "Permutation matrix:\n",
      "[[0. 0. 0. 0. 1.]\n",
      " [0. 0. 0. 1. 0.]\n",
      " [0. 0. 1. 0. 0.]\n",
      " [1. 0. 0. 0. 0.]\n",
      " [0. 1. 0. 0. 0.]]\n",
      "Permutation matrix from numpy:\n",
      "[[0. 0. 0. 1. 0.]\n",
      " [0. 0. 0. 0. 1.]\n",
      " [0. 0. 1. 0. 0.]\n",
      " [0. 1. 0. 0. 0.]\n",
      " [1. 0. 0. 0. 0.]]\n"
     ]
    }
   ],
   "source": [
    "import scipy\n",
    "# from scipy import linalg\n",
    "import numpy as np\n",
    "import time\n",
    "import copy\n",
    "\n",
    "def LU_decomposition(matrix):\n",
    "    m_size = np.size(matrix, 0)\n",
    "    L = np.identity(m_size)\n",
    "    L_I = []\n",
    "    U = copy.deepcopy(matrix)\n",
    "    P = np.identity(m_size) \n",
    "    P_i = []\n",
    "    scaling(U)\n",
    "    \n",
    "    for p in range(m_size):\n",
    "        P_i = partial_pivoting(U, p)\n",
    "        P = P_i@P\n",
    "    \n",
    "    for p in range(m_size):\n",
    "        pivot = U[p][p]\n",
    "        for row in range(p+1,m_size):\n",
    "            l = (U[row][p]/pivot)\n",
    "            row_sub = -U[p, :]*l\n",
    "            U[row, :] = U[row,:] + row_sub\n",
    "            U[row, p] = 0\n",
    "            L[row, p] = l\n",
    "    \n",
    "    return (L,U,P)\n",
    "\n",
    "\n",
    "matrixA = np.random.rand(5, 5)*5000\n",
    "\n",
    "start10 = time.time()\n",
    "L, U, P = LU_decomposition(matrixA)\n",
    "end10 = time.time()\n",
    "elaps = end10 - start10\n",
    "print(\"Time taken for written function: \" + str(elaps))\n",
    "start20 = time.time()\n",
    "P1, L1, U1 = scipy.linalg.lu(matrixA, permute_l=False)\n",
    "end20 = time.time()\n",
    "elaps20 = end20 - start20\n",
    "print(\"Time taken for library function: \" + str(elaps20))\n",
    "print(\"Matrix L:\\n\" + str(P@L))\n",
    "print(\"Matrix L from numpy:\\n\" + str(P1@L1))\n",
    "print(\"Original matrix A:\\n\" + str(matrixA))\n",
    "print(\"Matrix A from LU:\\n\" + str(P@L@U))\n",
    "print(\"Matrix A from LU scipy:\\n\" + str(P1@L1@U1))\n",
    "print(\"Permutation matrix:\\n\" + str(P))\n",
    "print(\"Permutation matrix from numpy:\\n\" + str(P1))\n"
   ]
  },
  {
   "cell_type": "markdown",
   "metadata": {},
   "source": [
    "#### Analiza obwodu elektrycznego"
   ]
  },
  {
   "cell_type": "code",
   "execution_count": 4,
   "metadata": {},
   "outputs": [
    {
     "name": "stdout",
     "output_type": "stream",
     "text": [
      "Circuit:\n",
      "[[(1, 1)], [(1, 1), (3, 1)], [(2, 1), (4, 1)], [(3, 1), (5, 1)], [(4, 1)]]\n",
      "Size: 6\n",
      "G matrix:\n",
      "[[0. 0. 0. 0.]\n",
      " [0. 0. 0. 0.]\n",
      " [0. 0. 0. 0.]\n",
      " [0. 0. 0. 0.]]\n",
      "I matrix:\n",
      "[0. 0. 0. 0.]\n",
      "[[(1, 1)], [(0, 1), (2, 1)], [(1, 1), (3, 1)], [(2, 1), (4, 1)], [(3, 1), (5, 1)], [(4, 1)]]\n",
      "[0. 0. 0. 0.]\n"
     ]
    }
   ],
   "source": [
    "# A nie metoda prądów oczkowych? I tak trzeba prądy wyliczyć, a fakt, że na wejściu jest źródło napięciowe bardziej pasuje do metody oczkowej\n",
    "# Liczba węzłów do metody węzłowej: n-2 (jeden jako masa, drugi ma wartość źródła napięciowego).\n",
    "\n",
    "# elem on 0 position - no of vertices\n",
    "def read_graph_from(file_name):\n",
    "    graph = []\n",
    "    f = open(file_name, \"r\")\n",
    "    lines = f.readlines()\n",
    "    \n",
    "    for l in lines:\n",
    "        s = l.split()\n",
    "        if(len(s) < 1): continue\n",
    "        if( s[0] == \"v\" ):\n",
    "            V = int(s[2])\n",
    "            # graph.append(V)\n",
    "            for i in range(V):\n",
    "                graph.append([])\n",
    "        elif( s[0] == \"e\" ):\n",
    "            a, b, c = int(s[1]), int(s[2]), int(s[3])\n",
    "            graph[a-1].append((b-1,c))\n",
    "            graph[b-1].append((a-1, c))\n",
    "\n",
    "    return graph\n",
    "    \n",
    "    f.close()\n",
    "    return 0\n",
    "\n",
    "\n",
    "def nodal_analysis(graph, s, t, E):\n",
    "    size = np.size(graph, 0)\n",
    "    circuit = graph[:s] + graph[s+1:]\n",
    "    circuit = circuit[:t-1] + circuit[t:]\n",
    "    G = np.zeros((size-2, size-2))\n",
    "    V = [] # szukany wektor\n",
    "    I = np.zeros(size-2)\n",
    "    \n",
    "    print(\"Circuit:\\n\" + str(circuit))\n",
    "    print(\"Size: \" + str(size))\n",
    "    print(\"G matrix:\\n\" + str(G))\n",
    "    print(\"I matrix:\\n\" + str(I))\n",
    "    \n",
    "    for node1 in range(size-2):\n",
    "        for node2 in range(size-2):\n",
    "            weight = 0\n",
    "            if node1 == node2:\n",
    "                for path in graph[node1]:\n",
    "                    weight += 1/(path[1])\n",
    "            else:\n",
    "                for path in graph[node1]:\n",
    "                    if path[0] == node2:\n",
    "                        weight += 1/path[1]\n",
    "            G[node1][node2] = weight\n",
    "    \n",
    "    return np.linalg.solve(G, I)\n",
    "    \n",
    "    print(\"G matrix:\\n\" + str(G))\n",
    "\n",
    "graph = read_graph_from(\"test.txt\")\n",
    "result = nodal_analysis(graph, 1, 6, 10)\n",
    "print(graph)\n",
    "print(result)"
   ]
  },
  {
   "cell_type": "markdown",
   "metadata": {},
   "source": [
    "#### Graficzne przedstawienie obwodu elektrycznego"
   ]
  },
  {
   "cell_type": "code",
   "execution_count": 21,
   "metadata": {},
   "outputs": [
    {
     "data": {
      "text/html": [
       "<svg height=\"200\" width=\"200\">     <circle cx=\"100\" cy=\"50\" r=\"40\" stroke=\"black\" stroke-width=\"3\" fill=\"red\" />     <rect x=\"25\" y=\"25\" width=\"50\" height=\"50\" stroke=\"orange\" stroke-width=\"3\" fill=\"blue\" />    </svg>"
      ],
      "text/plain": [
       "<IPython.core.display.HTML object>"
      ]
     },
     "metadata": {},
     "output_type": "display_data"
    },
    {
     "data": {
      "text/html": [
       "<svg height=\"200\" width=\"200\">     <circle cx=\"100\" cy=\"50\" r=\"40\" stroke=\"black\" stroke-width=\"3\" fill=\"red\" />     </svg>"
      ],
      "text/plain": [
       "<IPython.core.display.HTML object>"
      ]
     },
     "metadata": {},
     "output_type": "display_data"
    },
    {
     "data": {
      "application/vnd.jupyter.widget-view+json": {
       "model_id": "2c3086c179aa4621a2ce26a940e8d956",
       "version_major": 2,
       "version_minor": 0
      },
      "text/plain": [
       "Canvas(width=800)"
      ]
     },
     "metadata": {},
     "output_type": "display_data"
    }
   ],
   "source": [
    "import ipywidgets\n",
    "from ipycanvas import Canvas\n",
    "from IPython.display import HTML, display\n",
    "#from IPython import html\n",
    "#from IPython.html.widgets.interaction import interact\n",
    "\n",
    "html1='<svg height=\"200\" width=\"200\"> \\\n",
    "    <circle cx=\"100\" cy=\"50\" r=\"40\" stroke=\"black\" stroke-width=\"3\" fill=\"red\" /> \\\n",
    "    <rect x=\"25\" y=\"25\" width=\"50\" height=\"50\" stroke=\"orange\" stroke-width=\"3\" fill=\"blue\" />\\\n",
    "    </svg>'\n",
    "display(HTML(html1))\n",
    "html1 = '<svg height=\"200\" width=\"200\"> \\\n",
    "    <circle cx=\"100\" cy=\"50\" r=\"40\" stroke=\"black\" stroke-width=\"3\" fill=\"red\" /> \\\n",
    "    </svg>'\n",
    "display(HTML(html1))\n",
    "\n",
    "def draw_circuit(graph):\n",
    "    print(0)\n",
    "    return 0\n",
    "\n",
    "\n",
    "n_particles = 100_000\n",
    "\n",
    "# out = widgets.Output(layout={'border': '1px solid black'})\n",
    "\n",
    "\n",
    "x = np.array(np.random.rayleigh(250, n_particles), dtype=np.int32)\n",
    "y = np.array(np.random.rayleigh(250, n_particles), dtype=np.int32)\n",
    "size = np.random.randint(1, 3, n_particles)\n",
    "\n",
    "canvas = Canvas(width=800, height=500)\n",
    "\n",
    "canvas.fill_style = 'green'\n",
    "canvas.fill_rects(x, y, size)\n",
    "\n",
    "display(canvas)"
   ]
  },
  {
   "cell_type": "code",
   "execution_count": null,
   "metadata": {},
   "outputs": [],
   "source": []
  },
  {
   "cell_type": "code",
   "execution_count": 48,
   "metadata": {},
   "outputs": [
    {
     "name": "stdout",
     "output_type": "stream",
     "text": [
      "1 (1, 1)\n",
      "2 (2, 2)\n",
      "3 (1, 0)\n"
     ]
    },
    {
     "data": {
      "text/plain": [
       "{1: Text(1.1, 1.1, 'V1: 10V'),\n",
       " 2: Text(2.1, 2.1, 'V2: 20 V'),\n",
       " 3: Text(1.1, 0.1, 'V3')}"
      ]
     },
     "execution_count": 48,
     "metadata": {},
     "output_type": "execute_result"
    },
    {
     "data": {
      "image/png": "[encoded data removed]",
      "text/plain": [
       "<Figure size 432x288 with 1 Axes>"
      ]
     },
     "metadata": {},
     "output_type": "display_data"
    }
   ],
   "source": [
    "import networkx as nx\n",
    "import matplotlib.pyplot as plt\n",
    "\n",
    "list = [(1, 2, 10), (2, 3, 20), (3, 1, 50)]\n",
    "#G = nx.Graph()\n",
    "#G.add_weighted_edges_from(list)\n",
    "#plt.subplot(121)\n",
    "#pos=nx.get_node_attributes(G,'pos')\n",
    "#nx.draw(G) # default spring_layout\n",
    "#labels = nx.get_edge_attributes(G,'weight')\n",
    "#print(labels)\n",
    "#nx.draw_networkx_edge_labels(G, pos, edge_labels=labels)\n",
    "#plt.subplot(122)\n",
    "#nx.draw(G, pos=nx.circular_layout(G), node_color='r', edge_color='b')\n",
    "\n",
    "G=nx.Graph()\n",
    "i=1\n",
    "G.add_node(i,pos=(i,i))\n",
    "G.add_node(2,pos=(2,2))\n",
    "G.add_node(3,pos=(1,0))\n",
    "G.add_edge(1,2,weight=0.5)\n",
    "G.add_edge(1,3,weight=9.8)\n",
    "pos=nx.get_node_attributes(G,'pos')\n",
    "nx.draw(G,pos)\n",
    "labels = nx.get_edge_attributes(G,'weight')\n",
    "nx.draw_networkx_edge_labels(G,pos,edge_labels=labels)\n",
    "labels_node = {1:\"V1: 10V\", 2:\"V2: 20 V\", 3: \"V3\"}\n",
    "pos2 = {}\n",
    "for key, val in pos.items():\n",
    "    print(str(key) + \" \" + str(val))\n",
    "    pos2[key] = (val[0]+0.1,val[1]+0.1)\n",
    "nx.draw_networkx_labels(G, pos2, labels=labels_node)"
   ]
  },
  {
   "cell_type": "code",
   "execution_count": null,
   "metadata": {},
   "outputs": [],
   "source": []
  }
 ],
 "metadata": {
  "kernelspec": {
   "display_name": "Python 3",
   "language": "python",
   "name": "python3"
  },
  "language_info": {
   "codemirror_mode": {
    "name": "ipython",
    "version": 3
   },
   "file_extension": ".py",
   "mimetype": "text/x-python",
   "name": "python",
   "nbconvert_exporter": "python",
   "pygments_lexer": "ipython3",
   "version": "3.7.4"
  }
 },
 "nbformat": 4,
 "nbformat_minor": 2
}
