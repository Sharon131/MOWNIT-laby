{
 "cells": [
  {
   "cell_type": "markdown",
   "metadata": {},
   "source": [
    "### Laboratorium 3"
   ]
  },
  {
   "cell_type": "code",
   "execution_count": 5,
   "metadata": {},
   "outputs": [],
   "source": [
    "# Common\n",
    "import numpy as np\n",
    "from decimal import *\n",
    "\n",
    "getcontext().prec = 33\n",
    "\n",
    "# [3pi/2, 2pi]\n",
    "def fun1(x):\n",
    "    return np.cos(x)*np.cosh(x)-1\n",
    "    \n",
    "# [0,pi/2]\n",
    "def fun2(x):\n",
    "    return 1/x - np.tan(x)\n",
    "    \n",
    "# [1,3]\n",
    "def fun3(x):\n",
    "    return 2**(-x)+np.exp(x)+2*np.cos(x)-6"
   ]
  },
  {
   "cell_type": "markdown",
   "metadata": {},
   "source": [
    "#### Zadanie 1"
   ]
  },
  {
   "cell_type": "code",
   "execution_count": 16,
   "metadata": {},
   "outputs": [
    {
     "name": "stdout",
     "output_type": "stream",
     "text": [
      "3.140000000000000124344978758017532527446746826171875\n",
      "3.141592653589793\n",
      "Funkcja pierwsza:\n",
      "Otrzymany pierwiastek i liczba kroków dla eps=7: 4.730040760589331, 25\n",
      "Otrzymany pierwiastek i liczba kroków dla eps=15: 4.730040744862704, 52\n",
      "Funkcja druga:\n",
      "Otrzymany pierwiastek i liczba kroków dla eps=7: 0.8603336023821229, 24\n",
      "Otrzymany pierwiastek i liczba kroków dla eps=15: 0.8603335890193798, 51\n",
      "Funkcja trzecia:\n",
      "Otrzymany pierwiastek i liczba kroków dla eps=7: 1.8293835818767548, 26\n",
      "Otrzymany pierwiastek i liczba kroków dla eps=15: 1.829383601933849, 52\n"
     ]
    }
   ],
   "source": [
    "def bisection(func, x_start, x_end, digits):\n",
    "    steps_no = 1;\n",
    "    a = x_start\n",
    "    b = x_end\n",
    "    x1 = (a+b)/2\n",
    "    epsilon = 10**((-1)*digits)\n",
    "   \n",
    "    if np.abs(func(x1)) < epsilon:\n",
    "        return x1\n",
    "    \n",
    "    while np.abs(a-b) > epsilon:\n",
    "        if func(a)*func(x1) < 0:\n",
    "            b = x1\n",
    "        else:\n",
    "            a = x1\n",
    "        steps_no+=1\n",
    "        x1 = (a+b)/2\n",
    "    \n",
    "    return (x1, steps_no)\n",
    "\n",
    "#epsilons = [7, 15, 33]\n",
    "epsilons = [7, 15]\n",
    "\n",
    "getcontext().prec = 7\n",
    "Decimal(3.14)\n",
    "print(Decimal(3.14))\n",
    "print(np.pi)\n",
    "print(\"Funkcja pierwsza:\")\n",
    "for eps in epsilons:\n",
    "    getcontext().prec = eps\n",
    "    x1, steps_no = bisection(fun1, 3*np.pi/2, 2*np.pi, eps)\n",
    "    print(\"Otrzymany pierwiastek i liczba kroków dla eps=\" + str(eps) + \": \" + str(x1) + \", \" + str(steps_no))\n",
    "    \n",
    "print(\"Funkcja druga:\")\n",
    "for eps in epsilons:\n",
    "    getcontext().prec = eps\n",
    "    x1, steps_no = bisection(fun2, np.pi/4, np.pi/2, eps)\n",
    "    print(\"Otrzymany pierwiastek i liczba kroków dla eps=\" + str(eps) + \": \" + str(x1) + \", \" + str(steps_no))\n",
    "    \n",
    "print(\"Funkcja trzecia:\")\n",
    "for eps in epsilons:\n",
    "    getcontext().prec = eps\n",
    "    x1, steps_no = bisection(fun3, 1, 3, eps)\n",
    "    print(\"Otrzymany pierwiastek i liczba kroków dla eps=\" + str(eps) + \": \" + str(x1) + \", \" + str(steps_no))\n",
    "    "
   ]
  },
  {
   "cell_type": "markdown",
   "metadata": {},
   "source": [
    "#### Zadanie 2"
   ]
  },
  {
   "cell_type": "code",
   "execution_count": 19,
   "metadata": {},
   "outputs": [
    {
     "name": "stdout",
     "output_type": "stream",
     "text": [
      "Funkcja pierwsza:\n",
      "Bisekcja: pierwiastek i liczba kroków dla eps=7: 4.730040760589331, 25\n",
      "Metoda Newtona: pierwiastek i licz kroków dla eps=7: -3.9794294050267496, 100\n",
      "Bisekcja: pierwiastek i liczba kroków dla eps=15: 4.730040744862704, 52\n",
      "Metoda Newtona: pierwiastek i licz kroków dla eps=15: -3.9794294050267496, 100\n",
      "Funkcja druga:\n",
      "Bisekcja: pierwiastek i liczba kroków dla eps=7: 0.7853981633974483, 1\n",
      "Metoda Newtona: pierwiastek i licz kroków dla eps=7: 1.5707963267948966, 1\n",
      "Bisekcja: pierwiastek i liczba kroków dla eps=15: 0.7853981633974483, 1\n",
      "Metoda Newtona: pierwiastek i licz kroków dla eps=15: 1.5707963267948966, 1\n",
      "Funkcja trzecia:\n",
      "Bisekcja: pierwiastek i liczba kroków dla eps=7: 1.8293835818767548, 26\n",
      "Metoda Newtona: pierwiastek i licz kroków dla eps=7: 1.829383609702282, 9\n",
      "Bisekcja: pierwiastek i liczba kroków dla eps=15: 1.829383601933849, 52\n",
      "Metoda Newtona: pierwiastek i licz kroków dla eps=15: 1.8293836019338487, 17\n"
     ]
    }
   ],
   "source": [
    "def fun1_diff(x):\n",
    "    return np.cos(x)*np.sinh(x)+np.sin(x)*np.cosh(x)\n",
    "\n",
    "def fun2_diff(x):\n",
    "    return (-1)/(x**2) - 1/(np.cos(x)**2)\n",
    "\n",
    "def fun3_diff(x):\n",
    "    return np.exp(x)+2**(-x)*np.log(2) - 2*np.sin(x)\n",
    "\n",
    "def diff(func, x):\n",
    "    if (func == fun1):\n",
    "        return fun1_diff(x)\n",
    "    elif func == fun2:\n",
    "        return fun2_diff(x)\n",
    "    else:\n",
    "        return fun3_diff(x)\n",
    "\n",
    "def newton(func, x0, max_steps, digits):\n",
    "    getcontext().prec = digits\n",
    "    steps_no = 1\n",
    "    x_n = x0\n",
    "    x_n1 = x_n - func(x_n)/diff(func, x_n)\n",
    "    epsilon = 10**(-digits)\n",
    "    \n",
    "    while steps_no < max_steps and np.abs(x_n1-x_n) > epsilon:\n",
    "        x_n = x_n1\n",
    "        x_n1 = x_n - func(x_n)/diff(func, x_n)\n",
    "        steps_no += 1\n",
    "    \n",
    "    return (x_n1, steps_no) \n",
    "\n",
    "\n",
    "epsilons = [7, 15]\n",
    "\n",
    "print(\"Funkcja pierwsza:\")\n",
    "for eps in epsilons:\n",
    "    x1, steps_no = bisection(fun1, 3*np.pi/2, 2*np.pi, eps)\n",
    "    print(\"Bisekcja: pierwiastek i liczba kroków dla eps=\" + str(eps) + \": \" + str(x1) + \", \" + str(steps_no))\n",
    "    x1, steps_no = newton(fun1, 3*np.pi/2, 100, eps)\n",
    "    print(\"Metoda Newtona: pierwiastek i licz kroków dla eps=\" + str(eps) + \": \" + str(x1) + \", \" + str(steps_no))\n",
    "    \n",
    "print(\"Funkcja druga:\")\n",
    "for eps in epsilons:\n",
    "    x1, steps_no = bisection(fun2, np.pi/4, np.pi/4, eps)\n",
    "    print(\"Bisekcja: pierwiastek i liczba kroków dla eps=\" + str(eps) + \": \" + str(x1) + \", \" + str(steps_no))\n",
    "    x1, steps_no = newton(fun2, np.pi/2, 100, eps)\n",
    "    print(\"Metoda Newtona: pierwiastek i licz kroków dla eps=\" + str(eps) + \": \" + str(x1) + \", \" + str(steps_no))\n",
    "    \n",
    "print(\"Funkcja trzecia:\")\n",
    "for eps in epsilons:\n",
    "    x1, steps_no = bisection(fun3, 1, 3, eps)\n",
    "    print(\"Bisekcja: pierwiastek i liczba kroków dla eps=\" + str(eps) + \": \" + str(x1) + \", \" + str(steps_no))\n",
    "    x1, steps_no = newton(fun3, 1, 100, eps)\n",
    "    print(\"Metoda Newtona: pierwiastek i licz kroków dla eps=\" + str(eps) + \": \" + str(x1) + \", \" + str(steps_no))\n"
   ]
  },
  {
   "cell_type": "markdown",
   "metadata": {},
   "source": [
    "#### Zadanie 3"
   ]
  },
  {
   "cell_type": "code",
   "execution_count": 21,
   "metadata": {},
   "outputs": [
    {
     "name": "stdout",
     "output_type": "stream",
     "text": [
      "Funkcja pierwsza:\n",
      "Bisekcja: pierwiastek i liczba kroków dla eps=7: 4.730040760589331, 25\n",
      "Metoda Newtona: pierwiastek i licz kroków dla eps=7: -3.9794294050267496, 100\n",
      "Metoda siecznych: pierwiastek i licz kroków dla eps=7: 4.71238898038469, 4\n",
      "Bisekcja: pierwiastek i liczba kroków dla eps=15: 4.730040744862704, 52\n",
      "Metoda Newtona: pierwiastek i licz kroków dla eps=15: -3.9794294050267496, 100\n",
      "Metoda siecznych: pierwiastek i licz kroków dla eps=15: 4.71238898038469, 4\n",
      "Funkcja druga:\n",
      "Bisekcja: pierwiastek i liczba kroków dla eps=7: 0.8603336023821229, 24\n",
      "Metoda Newtona: pierwiastek i licz kroków dla eps=7: 0.8603335890193821, 3\n",
      "Metoda siecznych: pierwiastek i licz kroków dla eps=7: 3835617659113.0557, 100\n",
      "Bisekcja: pierwiastek i liczba kroków dla eps=15: 0.8603335890193798, 51\n",
      "Metoda Newtona: pierwiastek i licz kroków dla eps=15: 0.8603335890193797, 5\n",
      "Metoda siecznych: pierwiastek i licz kroków dla eps=15: 3835617659113.0557, 100\n",
      "Funkcja trzecia:\n",
      "Bisekcja: pierwiastek i liczba kroków dla eps=7: 1.8293835818767548, 26\n",
      "Metoda Newtona: pierwiastek i licz kroków dla eps=7: 1.829383609702282, 9\n",
      "Metoda siecznych: pierwiastek i licz kroków dla eps=7: 1.8293835818767548, 5\n",
      "Bisekcja: pierwiastek i liczba kroków dla eps=15: 1.829383601933849, 52\n",
      "Metoda Newtona: pierwiastek i licz kroków dla eps=15: 1.8293836019338487, 17\n",
      "Metoda siecznych: pierwiastek i licz kroków dla eps=15: 1.829383601933849, 5\n"
     ]
    },
    {
     "name": "stderr",
     "output_type": "stream",
     "text": [
      "C:\\Users\\pastu\\Anaconda3\\lib\\site-packages\\ipykernel_launcher.py:9: RuntimeWarning: overflow encountered in cosh\n",
      "  if __name__ == '__main__':\n",
      "C:\\Users\\pastu\\Anaconda3\\lib\\site-packages\\ipykernel_launcher.py:9: RuntimeWarning: invalid value encountered in cos\n",
      "  if __name__ == '__main__':\n",
      "C:\\Users\\pastu\\Anaconda3\\lib\\site-packages\\ipykernel_launcher.py:17: RuntimeWarning: invalid value encountered in cos\n"
     ]
    }
   ],
   "source": [
    "\n",
    "def secant(func, x_start, x_end, max_steps, digits):\n",
    "    getcontext().prec = digits\n",
    "    steps_no = 1\n",
    "    a_n = x_start\n",
    "    b_n_1 = 0.000001\n",
    "    b_n = x_end\n",
    "    x = (func(a_n)*b_n - func(b_n)*a_n)/(func(a_n) - func(b_n_1))\n",
    "    epsilon = 10**(-digits)\n",
    "    \n",
    "    while steps_no < max_steps and np.abs(b_n-a_n) > epsilon:\n",
    "        if func(x)*func(a_n) > 0:\n",
    "            a_n = x\n",
    "        else:\n",
    "            b_n_1 = b_n\n",
    "            b_n = x\n",
    "        \n",
    "        x = (func(a_n)*b_n - func(b_n)*a_n)/(func(a_n) - func(b_n_1))\n",
    "        steps_no += 1\n",
    "    \n",
    "    return (a_n, steps_no) \n",
    "\n",
    "epsilons = [7, 15]\n",
    "\n",
    "print(\"Funkcja pierwsza:\")\n",
    "for eps in epsilons:\n",
    "    x1, steps_no = bisection(fun1, 3*np.pi/2, 2*np.pi, eps)\n",
    "    print(\"Bisekcja: pierwiastek i liczba kroków dla eps=\" + str(eps) + \": \" + str(x1) + \", \" + str(steps_no))\n",
    "    x2, steps_no = newton(fun1, 3*np.pi/2, 100, eps)\n",
    "    print(\"Metoda Newtona: pierwiastek i licz kroków dla eps=\" + str(eps) + \": \" + str(x2) + \", \" + str(steps_no))\n",
    "    x3, steps_no = secant(fun1, 3*np.pi/2, 2*np.pi, 100, eps)\n",
    "    print(\"Metoda siecznych: pierwiastek i licz kroków dla eps=\" + str(eps) + \": \" + str(x3) + \", \" + str(steps_no))\n",
    "    \n",
    "print(\"Funkcja druga:\")\n",
    "for eps in epsilons:\n",
    "    x1, steps_no = bisection(fun2, np.pi/4, np.pi/2, eps)\n",
    "    print(\"Bisekcja: pierwiastek i liczba kroków dla eps=\" + str(eps) + \": \" + str(x1) + \", \" + str(steps_no))\n",
    "    x2, steps_no = newton(fun2, np.pi/4, 100, eps)\n",
    "    print(\"Metoda Newtona: pierwiastek i licz kroków dla eps=\" + str(eps) + \": \" + str(x2) + \", \" + str(steps_no))\n",
    "    x3, steps_no = secant(fun2, np.pi/32,  np.pi/2, 100, eps)\n",
    "    print(\"Metoda siecznych: pierwiastek i licz kroków dla eps=\" + str(eps) + \": \" + str(x3) + \", \" + str(steps_no))\n",
    "    \n",
    "print(\"Funkcja trzecia:\")\n",
    "for eps in epsilons:\n",
    "    x1, steps_no = bisection(fun3, 1, 3, eps)\n",
    "    print(\"Bisekcja: pierwiastek i liczba kroków dla eps=\" + str(eps) + \": \" + str(x1) + \", \" + str(steps_no))\n",
    "    x2, steps_no = newton(fun3, 1, 100, eps)\n",
    "    print(\"Metoda Newtona: pierwiastek i licz kroków dla eps=\" + str(eps) + \": \" + str(x2) + \", \" + str(steps_no))\n",
    "    x3, steps_no = secant(fun3, 1, 3, 100, eps)\n",
    "    print(\"Metoda siecznych: pierwiastek i licz kroków dla eps=\" + str(eps) + \": \" + str(x1) + \", \" + str(steps_no))\n"
   ]
  },
  {
   "cell_type": "code",
   "execution_count": null,
   "metadata": {},
   "outputs": [],
   "source": []
  }
 ],
 "metadata": {
  "kernelspec": {
   "display_name": "Python 3",
   "language": "python",
   "name": "python3"
  },
  "language_info": {
   "codemirror_mode": {
    "name": "ipython",
    "version": 3
   },
   "file_extension": ".py",
   "mimetype": "text/x-python",
   "name": "python",
   "nbconvert_exporter": "python",
   "pygments_lexer": "ipython3",
   "version": "3.7.4"
  }
 },
 "nbformat": 4,
 "nbformat_minor": 2
}
